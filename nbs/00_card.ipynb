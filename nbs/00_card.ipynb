{
 "cells": [
  {
   "cell_type": "raw",
   "metadata": {},
   "source": [
    "---\n",
    "description: Fill in a module description here\n",
    "output-file: card.html\n",
    "title: card -- A baisc playing card\n",
    "\n",
    "---\n",
    "\n"
   ]
  },
  {
   "cell_type": "code",
   "execution_count": null,
   "metadata": {},
   "outputs": [],
   "source": [
    "#| default_exp card"
   ]
  },
  {
   "cell_type": "code",
   "execution_count": null,
   "metadata": {},
   "outputs": [],
   "source": [
    "#| hide\n",
    "from nbdev.showdoc import *\n",
    "from fastcore.test import *"
   ]
  },
  {
   "cell_type": "code",
   "execution_count": null,
   "metadata": {},
   "outputs": [],
   "source": [
    "#| export\n",
    "from fastcore.utils import *"
   ]
  },
  {
   "cell_type": "code",
   "execution_count": null,
   "metadata": {},
   "outputs": [],
   "source": [
    "#| export\n",
    "suits = [\"\\u2665\", \"\\u2660\",\"\\u2663\", \"\\u2666\"]\n",
    "ranks = [None, \"A\"] + [str(i) for i in range(2, 11)] + [\"J\", \"Q\", \"K\"]"
   ]
  },
  {
   "cell_type": "code",
   "execution_count": null,
   "metadata": {},
   "outputs": [
    {
     "name": "stdout",
     "output_type": "stream",
     "text": [
      "0 None\n",
      "1 A\n",
      "2 2\n",
      "3 3\n",
      "4 4\n",
      "5 5\n",
      "6 6\n",
      "7 7\n",
      "8 8\n",
      "9 9\n",
      "10 10\n",
      "11 J\n",
      "12 Q\n",
      "13 K\n"
     ]
    }
   ],
   "source": [
    "#| hide\n",
    "for idx, r in enumerate(ranks):\n",
    "    print(idx, r)"
   ]
  },
  {
   "cell_type": "code",
   "execution_count": null,
   "metadata": {},
   "outputs": [],
   "source": [
    "#| export\n",
    "\n",
    "class Card:\n",
    "    def __init__(self, \n",
    "                 suit: int,  # An index into `suits`\n",
    "                 rank: int): # An index into `ranks`\n",
    "        self.rank = rank\n",
    "        self.suit = suit\n",
    "        \n",
    "    def __str__(self):\n",
    "        return f'{ranks[self.rank]}{suits[self.suit]}'\n",
    "    \n",
    "    __repr__ = __str__"
   ]
  },
  {
   "cell_type": "code",
   "execution_count": null,
   "metadata": {},
   "outputs": [
    {
     "data": {
      "text/plain": [
       "3♠"
      ]
     },
     "execution_count": null,
     "metadata": {},
     "output_type": "execute_result"
    }
   ],
   "source": [
    "Card(1,3)"
   ]
  },
  {
   "cell_type": "markdown",
   "metadata": {},
   "source": [
    "# Comparison operators\n",
    "\n",
    "Equiality, less than, greater than work on ranks and suit indicies"
   ]
  },
  {
   "cell_type": "code",
   "execution_count": null,
   "metadata": {},
   "outputs": [],
   "source": [
    "#| export\n",
    "\n",
    "@patch\n",
    "def __eq__(self: Card, other: Card):\n",
    "    return (self.suit, self.rank) == (other.suit, other.rank)\n",
    "@patch\n",
    "def __lt__(self: Card, other: Card):\n",
    "    return (self.suit, self.rank) < (other.suit, other.rank)\n",
    "@patch\n",
    "def __gt__(self: Card, other: Card):\n",
    "    return (self.suit, self.rank) > (other.suit, other.rank)"
   ]
  },
  {
   "cell_type": "code",
   "execution_count": null,
   "metadata": {},
   "outputs": [
    {
     "data": {
      "text/markdown": [
       "---\n",
       "\n",
       "### Card.__eq__\n",
       "\n",
       ">      Card.__eq__ (other:__main__.Card)\n",
       "\n",
       "Return self==value."
      ],
      "text/plain": [
       "---\n",
       "\n",
       "### Card.__eq__\n",
       "\n",
       ">      Card.__eq__ (other:__main__.Card)\n",
       "\n",
       "Return self==value."
      ]
     },
     "execution_count": null,
     "metadata": {},
     "output_type": "execute_result"
    }
   ],
   "source": [
    "# Makes the method available in the documentation, if we want. \n",
    "# Jeremy doesn't like to assume his users would understand these.\n",
    "show_doc(Card.__eq__)"
   ]
  },
  {
   "cell_type": "markdown",
   "metadata": {},
   "source": [
    "A test for equality..."
   ]
  },
  {
   "cell_type": "code",
   "execution_count": null,
   "metadata": {},
   "outputs": [],
   "source": [
    "test_eq(Card(suit=1, rank=1), Card(suit=1, rank=1))"
   ]
  },
  {
   "cell_type": "code",
   "execution_count": null,
   "metadata": {},
   "outputs": [],
   "source": [
    "#| hide\n",
    "test_ne(Card(suit=1, rank=3), Card(suit=1, rank=1))\n",
    "test_ne(Card(suit=2, rank=1), Card(suit=1, rank=1))"
   ]
  },
  {
   "cell_type": "markdown",
   "metadata": {},
   "source": [
    "Some tests for < ..."
   ]
  },
  {
   "cell_type": "code",
   "execution_count": null,
   "metadata": {},
   "outputs": [],
   "source": [
    "assert (Card(suit=1, rank=1) < Card(suit=1, rank=2))"
   ]
  },
  {
   "cell_type": "markdown",
   "metadata": {},
   "source": [
    "Some tests for > ..."
   ]
  },
  {
   "cell_type": "code",
   "execution_count": null,
   "metadata": {},
   "outputs": [],
   "source": [
    "assert (Card(suit=1, rank=2) > Card(suit=1, rank=1))\n",
    "assert not (Card(suit=1, rank=1) > Card(suit=1, rank=2))"
   ]
  },
  {
   "cell_type": "code",
   "execution_count": null,
   "metadata": {},
   "outputs": [],
   "source": [
    "#| hide\n",
    "import nbdev; nbdev.nbdev_export()"
   ]
  }
 ],
 "metadata": {
  "kernelspec": {
   "display_name": "Python 3 (ipykernel)",
   "language": "python",
   "name": "python3"
  }
 },
 "nbformat": 4,
 "nbformat_minor": 4
}
